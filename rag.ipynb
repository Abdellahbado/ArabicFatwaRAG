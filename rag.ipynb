{
 "cells": [
  {
   "cell_type": "code",
   "execution_count": 8,
   "metadata": {},
   "outputs": [],
   "source": [
    "from langchain.llms import HuggingFaceHub\n",
    "from langchain.chains import RetrievalQA\n",
    "from langchain.prompts import PromptTemplate\n",
    "from langchain_huggingface import HuggingFaceEmbeddings\n",
    "from langchain.document_loaders import JSONLoader\n",
    "from langchain.retrievers.multi_query import MultiQueryRetriever\n",
    "from langchain_text_splitters import RecursiveCharacterTextSplitter\n",
    "from langchain.vectorstores import Chroma"
   ]
  },
  {
   "cell_type": "code",
   "execution_count": 2,
   "metadata": {},
   "outputs": [
    {
     "data": {
      "text/plain": [
       "True"
      ]
     },
     "execution_count": 2,
     "metadata": {},
     "output_type": "execute_result"
    }
   ],
   "source": [
    "from dotenv import load_dotenv\n",
    "load_dotenv()"
   ]
  },
  {
   "cell_type": "code",
   "execution_count": 3,
   "metadata": {},
   "outputs": [],
   "source": [
    "from langchain_groq import ChatGroq\n",
    "from langchain_core.messages import HumanMessage\n",
    "\n",
    "model = ChatGroq(model=\"gemma2-9b-it\")"
   ]
  },
  {
   "cell_type": "code",
   "execution_count": 4,
   "metadata": {},
   "outputs": [],
   "source": [
    "prompt_template = \"\"\"استخدم المعلومات التالية للإجابة عن السؤال باللغة العربية. إذا لم تتمكن من الإجابة استنادًا إلى المعلومات، فقط قل \"لا أعرف\".\n",
    "\n",
    "معلومات إضافية: {context}\n",
    "\n",
    "سؤال باللغة العربية: {question}\n",
    "\n",
    "إجابة باللغة العربية:\"\"\"\n",
    "\n",
    "PROMPT = PromptTemplate(\n",
    "    template=prompt_template, input_variables=[\"context\", \"question\"]\n",
    ")"
   ]
  },
  {
   "cell_type": "code",
   "execution_count": 6,
   "metadata": {},
   "outputs": [],
   "source": [
    "loader = JSONLoader(file_path='scraped_fatwas.json', jq_schema='.[].combined_text')\n",
    "documents = loader.load()\n",
    "\n",
    "text_splitter = RecursiveCharacterTextSplitter(chunk_size=1000, chunk_overlap=200)\n",
    "splits = text_splitter.split_documents(documents)"
   ]
  },
  {
   "cell_type": "code",
   "execution_count": 10,
   "metadata": {},
   "outputs": [
    {
     "name": "stderr",
     "output_type": "stream",
     "text": [
      "No sentence-transformers model found with name aubmindlab/bert-base-arabertv2. Creating a new one with mean pooling.\n",
      "/opt/miniconda3/envs/langchain/lib/python3.12/site-packages/transformers/tokenization_utils_base.py:1601: FutureWarning: `clean_up_tokenization_spaces` was not set. It will be set to `True` by default. This behavior will be depracted in transformers v4.45, and will be then set to `False` by default. For more details check this issue: https://github.com/huggingface/transformers/issues/31884\n",
      "  warnings.warn(\n"
     ]
    }
   ],
   "source": [
    "embeddings = HuggingFaceEmbeddings(model_name=\"aubmindlab/bert-base-arabertv2\")"
   ]
  },
  {
   "cell_type": "code",
   "execution_count": 11,
   "metadata": {},
   "outputs": [],
   "source": [
    "vectorstore = Chroma.from_documents(documents=splits, embedding=embeddings)"
   ]
  },
  {
   "cell_type": "code",
   "execution_count": 12,
   "metadata": {},
   "outputs": [],
   "source": [
    "retriever = vectorstore.as_retriever(search_kwargs={\"k\": 3})\n",
    "qa_chain = RetrievalQA.from_chain_type(\n",
    "    model,\n",
    "    retriever=retriever,\n",
    "    return_source_documents=True,\n",
    "    chain_type_kwargs={\"prompt\": PROMPT}\n",
    ")"
   ]
  },
  {
   "cell_type": "code",
   "execution_count": 13,
   "metadata": {},
   "outputs": [
    {
     "name": "stderr",
     "output_type": "stream",
     "text": [
      "/var/folders/yl/33g63q2s16qg4334_f6pknm00000gn/T/ipykernel_1025/4244202644.py:2: LangChainDeprecationWarning: The method `Chain.__call__` was deprecated in langchain 0.1.0 and will be removed in 1.0. Use invoke instead.\n",
      "  result = qa_chain({\"query\": question})\n"
     ]
    }
   ],
   "source": [
    "question = \"حكم العمل في شركة تبيع بزيادة في الثمن المؤجل\"\n",
    "result = qa_chain({\"query\": question})"
   ]
  },
  {
   "cell_type": "code",
   "execution_count": 14,
   "metadata": {},
   "outputs": [
    {
     "name": "stdout",
     "output_type": "stream",
     "text": [
      "الإجابة:\n",
      "حُكم العمل في شركة تبيع بزيادة في الثمن المؤجل، إذا كان العمل في مثل هذه الشركة يتوافق مع الضوابط الشرعية في بيع التقسيط، فهو جائز.\n",
      "\n",
      "وذلك بناءً على ما ورد في الفتوى رقم (53/2/6) الصادرة في 14 مارس 1990م، والتي أجازت الزيادة في الثمن المؤجل عن الثمن الحال. \n",
      "\n",
      "\n",
      "الوثائق المصدر:\n",
      "النص: 14مارس 1990م، وذلك في قراره رقم (53/2/6) بشأن البيع بالتقسيط. وفيه:تجوز الزيادة في الثمن المؤجل عن الثمن الحال.... إلخ. انتهى. وعليه؛ فعمل المحاسب في مثل هذه الشركات التي تلتزم الضوابط الشرعية في بيع التقسيط جائز. والله أعلم. يمكنك البحث عن الفتوى من خلال البريد الإلكتروني جميع الحقوق محفوظة © 2023 - 1998 لشبكة إسلام ويب جميع الحقوق محفوظة © 2023 - 1998 لشبكة إسلام ويب\n",
      "---\n",
      "النص: وإن لم يثب عليها، يعني وإن لم يعوض عنها. انتهى. وإذا كنت أهديت له بسبب أنه سيتزوجك؛ فبعض أهل العلم يرى لك الرجوع في هبتك ما دام الزواج لم يتم، لكن الرجوع في الهبة يشترط فيه أن تكون الهبة باقية في ملك الموهوب لم تتغير، وراجعي الفتوى:127875. والله أعلم. يمكنك البحث عن الفتوى من خلال البريد الإلكتروني جميع الحقوق محفوظة © 2023 - 1998 لشبكة إسلام ويب جميع الحقوق محفوظة © 2023 - 1998 لشبكة إسلام ويب\n",
      "---\n",
      "النص: العليا من الجنة -إنه سميع مجيب- ثم إن هذا النذر الذي ذكرته تنتهي تبعاته عن جدتك بوفاتها، فهو نذر التزمت به في حياتها، وفي وقته، وقد توفيت، وليس في ذمتها منه شيء -كما يظهر- ولم توص بشيء، وليس على ورثتها أي شيء تجاهه، والتكليف ينتهي بالموت، كما هو معلوم. والله أعلم. يمكنك البحث عن الفتوى من خلال البريد الإلكتروني جميع الحقوق محفوظة © 2023 - 1998 لشبكة إسلام ويب جميع الحقوق محفوظة © 2023 - 1998 لشبكة إسلام ويب\n",
      "---\n"
     ]
    }
   ],
   "source": [
    "print(\"الإجابة:\")\n",
    "print(result[\"result\"])\n",
    "\n",
    "print(\"\\nالوثائق المصدر:\")\n",
    "for doc in result[\"source_documents\"]:\n",
    "    print(f\"النص: {doc.page_content}\")\n",
    "    print(\"---\")"
   ]
  },
  {
   "cell_type": "code",
   "execution_count": null,
   "metadata": {},
   "outputs": [],
   "source": []
  }
 ],
 "metadata": {
  "kernelspec": {
   "display_name": "torch",
   "language": "python",
   "name": "python3"
  },
  "language_info": {
   "codemirror_mode": {
    "name": "ipython",
    "version": 3
   },
   "file_extension": ".py",
   "mimetype": "text/x-python",
   "name": "python",
   "nbconvert_exporter": "python",
   "pygments_lexer": "ipython3",
   "version": "3.12.5"
  }
 },
 "nbformat": 4,
 "nbformat_minor": 2
}
